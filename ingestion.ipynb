{
 "cells": [
  {
   "cell_type": "markdown",
   "metadata": {},
   "source": [
    "## Installing dependencies"
   ]
  },
  {
   "cell_type": "code",
   "execution_count": 1,
   "metadata": {},
   "outputs": [],
   "source": [
    "# !pip install xlrd\n",
    "# !pip install pandas\n",
    "# !pip install numpy\n",
    "# !pip install mysql-connector-python\n",
    "# !pip install sqlalchemy\n",
    "# !pip install pymysql\n",
    "# !pip install google-cloud-bigquery\n",
    "# !pip install db-dtypes\n",
    "# !pip install db-dtypes"
   ]
  },
  {
   "cell_type": "markdown",
   "metadata": {},
   "source": [
    "---"
   ]
  },
  {
   "cell_type": "markdown",
   "metadata": {},
   "source": [
    "## Set up environment"
   ]
  },
  {
   "cell_type": "code",
   "execution_count": 3,
   "metadata": {},
   "outputs": [],
   "source": [
    "import re\n",
    "import os\n",
    "import warnings\n",
    "import pandas as pd\n",
    "import numpy as np\n",
    "import mysql.connector as mysql\n",
    "from sqlalchemy import create_engine, text\n",
    "from sqlalchemy.exc import *\n",
    "from google.cloud import bigquery as bq\n",
    "from google.oauth2 import service_account\n",
    "\n",
    "warnings.filterwarnings('ignore')\n",
    "os.environ['GOOGLE_APPLICATION_CREDENTIALS'] = 'explore29-33756158108f.json'"
   ]
  },
  {
   "cell_type": "markdown",
   "metadata": {},
   "source": [
    "---"
   ]
  },
  {
   "cell_type": "markdown",
   "metadata": {},
   "source": [
    "## Import data"
   ]
  },
  {
   "cell_type": "code",
   "execution_count": 4,
   "metadata": {},
   "outputs": [],
   "source": [
    "file_path = 'data-src/Sample - Superstore.xls'\n",
    "orders_df = pd.read_excel(file_path, sheet_name='Orders', header=0)\n",
    "people_df = pd.read_excel(file_path, sheet_name='People', header=0)\n",
    "returns_df = pd.read_excel(file_path, sheet_name='Returns', header=0)"
   ]
  },
  {
   "cell_type": "markdown",
   "metadata": {},
   "source": [
    "---"
   ]
  },
  {
   "cell_type": "markdown",
   "metadata": {},
   "source": [
    "## Functions"
   ]
  },
  {
   "cell_type": "code",
   "execution_count": 5,
   "metadata": {},
   "outputs": [],
   "source": [
    "def snake_case(data:str) -> str:\n",
    "\treturn(data.lower().strip().replace(' ','_').replace('-', '_'))\n",
    "\n",
    "def std_null(data):\n",
    "\tif pd.isna(data):\n",
    "\t\treturn None\n",
    "\tif isinstance(data, str):\n",
    "\t\tdata = data.strip()\n",
    "\t\treturn None if data.lower() in ['null', ''] else data\n",
    "\treturn data"
   ]
  },
  {
   "cell_type": "markdown",
   "metadata": {},
   "source": [
    "---"
   ]
  },
  {
   "cell_type": "markdown",
   "metadata": {},
   "source": [
    "## Process ```Orders```"
   ]
  },
  {
   "cell_type": "markdown",
   "metadata": {},
   "source": [
    "### Format headers (columns)"
   ]
  },
  {
   "cell_type": "code",
   "execution_count": 6,
   "metadata": {},
   "outputs": [],
   "source": [
    "try:\n",
    "\torders_df = orders_df.rename(columns={\n",
    "\t'Country/Region': 'country',\n",
    "\t'State/Province': 'province',\n",
    "\t'Postal Code': 'post_code'\n",
    "})\n",
    "except Exception as error:\n",
    "\tprint(f'Failed to reformat headers for orders table: {error}')\n",
    "\t\n",
    "orders_df.columns = [snake_case(col) for col in orders_df.columns]"
   ]
  },
  {
   "cell_type": "markdown",
   "metadata": {},
   "source": [
    "### Aggregate rows"
   ]
  },
  {
   "cell_type": "code",
   "execution_count": 7,
   "metadata": {},
   "outputs": [],
   "source": [
    "agg_instruction = {col: ('sum' if col in ['sales', 'quantity', 'profit'] else 'last') for col in list(orders_df.columns)}\n",
    "orders_df = orders_df.groupby(['order_id', 'product_id'], as_index=False).agg(agg_instruction)"
   ]
  },
  {
   "cell_type": "markdown",
   "metadata": {},
   "source": [
    "### Format numerical data"
   ]
  },
  {
   "cell_type": "code",
   "execution_count": 8,
   "metadata": {},
   "outputs": [],
   "source": [
    "orders_df['sales'] = orders_df['sales'].astype(float).round(2)\n",
    "orders_df['quantity'] = orders_df['quantity'].astype(int).round(2)\n",
    "orders_df['discount'] = orders_df['discount'].astype(float).round(2)\n",
    "orders_df['profit'] = orders_df['profit'].astype(float).round(2)"
   ]
  },
  {
   "cell_type": "markdown",
   "metadata": {},
   "source": [
    "---"
   ]
  },
  {
   "cell_type": "markdown",
   "metadata": {},
   "source": [
    "## Process ```People```"
   ]
  },
  {
   "cell_type": "markdown",
   "metadata": {},
   "source": [
    "### Format headers"
   ]
  },
  {
   "cell_type": "code",
   "execution_count": 11,
   "metadata": {},
   "outputs": [],
   "source": [
    "people_df = people_df.rename(columns={\n",
    "\t'Regional Manager': 'manager',\n",
    "\t'Region': 'region'\n",
    "})"
   ]
  },
  {
   "cell_type": "markdown",
   "metadata": {},
   "source": [
    "### NULL/Missing values and duplicates"
   ]
  },
  {
   "cell_type": "code",
   "execution_count": 13,
   "metadata": {},
   "outputs": [],
   "source": [
    "## handle duplicates\n",
    "people_df = people_df.drop_duplicates()\n",
    "\n",
    "## handle null values\n",
    "people_df = people_df.applymap(std_null)"
   ]
  },
  {
   "cell_type": "markdown",
   "metadata": {},
   "source": [
    "---"
   ]
  },
  {
   "cell_type": "markdown",
   "metadata": {},
   "source": [
    "## Process ```Returns```"
   ]
  },
  {
   "cell_type": "markdown",
   "metadata": {},
   "source": [
    "### Format headers"
   ]
  },
  {
   "cell_type": "code",
   "execution_count": 20,
   "metadata": {},
   "outputs": [],
   "source": [
    "returns_df.columns = [snake_case(col) for col in returns_df.columns]"
   ]
  },
  {
   "cell_type": "markdown",
   "metadata": {},
   "source": [
    "#### Merge with ```Orders```"
   ]
  },
  {
   "cell_type": "code",
   "execution_count": 21,
   "metadata": {},
   "outputs": [],
   "source": [
    "orders_oid_count = orders_df['order_id'].value_counts().reset_index()\n",
    "orders_oid_count.columns = ['order_id', 'orders_oid_count']\n",
    "returns_oid_count = returns_df['order_id'].value_counts().reset_index()\n",
    "returns_oid_count.columns = ['order_id', 'returns_oid_count']\n",
    "same_id_entries = orders_oid_count.merge(returns_oid_count, on='order_id', how='inner')\n",
    "mismatch = len(same_id_entries[same_id_entries['orders_oid_count'] != same_id_entries['returns_oid_count']])\n",
    "\n",
    "if mismatch == 0:\n",
    "\torders_df['returned'] = orders_df['order_id'].isin(returns_df['order_id']).map({True: 'Yes', False: 'No'})\n",
    "\torders_df = orders_df.applymap(std_null) # handle null values here for orders_df"
   ]
  },
  {
   "cell_type": "markdown",
   "metadata": {},
   "source": [
    "---"
   ]
  },
  {
   "cell_type": "markdown",
   "metadata": {},
   "source": [
    "## Loading data to Bigquery"
   ]
  },
  {
   "cell_type": "markdown",
   "metadata": {},
   "source": [
    "### Restructure"
   ]
  },
  {
   "cell_type": "code",
   "execution_count": 22,
   "metadata": {},
   "outputs": [],
   "source": [
    "orders = orders_df[['order_id', 'order_date', 'ship_date', 'ship_mode', 'customer_id', 'product_id', 'sales', 'quantity', 'discount', 'profit', 'returned']]\n",
    "customers = orders_df[['customer_id', 'customer_name', 'segment', 'country', 'city', 'province', 'post_code', 'region']].drop_duplicates(subset=['customer_id'])\n",
    "products = orders_df[['product_id', 'product_name', 'category', 'sub_category']].drop_duplicates(subset=['product_id'])\n",
    "regions = people_df[['region', 'manager']]"
   ]
  },
  {
   "cell_type": "markdown",
   "metadata": {},
   "source": [
    "### Establish connection"
   ]
  },
  {
   "cell_type": "code",
   "execution_count": 23,
   "metadata": {},
   "outputs": [],
   "source": [
    "client = bq.Client()"
   ]
  },
  {
   "cell_type": "markdown",
   "metadata": {},
   "source": [
    "### Load ```orders```"
   ]
  },
  {
   "cell_type": "code",
   "execution_count": 24,
   "metadata": {},
   "outputs": [],
   "source": [
    "destination_table = 'explore29.superstore.orders2'\n",
    "\n",
    "job_config = bq.LoadJobConfig(\n",
    "\twrite_disposition='WRITE_APPEND',\n",
    "\tautodetect=True\n",
    ")"
   ]
  },
  {
   "cell_type": "markdown",
   "metadata": {},
   "source": [
    "### Load ```customers```"
   ]
  },
  {
   "cell_type": "code",
   "execution_count": null,
   "metadata": {},
   "outputs": [],
   "source": [
    "destination_table = 'explore29.superstore.customers2'\n",
    "\n",
    "job_config = bq.LoadJobConfig(\n",
    "\twrite_disposition='WRITE_APPEND',\n",
    "\tautodetect=True\n",
    ")\n",
    "\n",
    "job = client.load_table_from_dataframe(\n",
    "\tcustomers,\n",
    "\tdestination_table,\n",
    "\tjob_config=job_config\n",
    ")"
   ]
  }
 ],
 "metadata": {
  "kernelspec": {
   "display_name": "Python 3",
   "language": "python",
   "name": "python3"
  },
  "language_info": {
   "codemirror_mode": {
    "name": "ipython",
    "version": 3
   },
   "file_extension": ".py",
   "mimetype": "text/x-python",
   "name": "python",
   "nbconvert_exporter": "python",
   "pygments_lexer": "ipython3",
   "version": "3.13.0"
  }
 },
 "nbformat": 4,
 "nbformat_minor": 2
}
