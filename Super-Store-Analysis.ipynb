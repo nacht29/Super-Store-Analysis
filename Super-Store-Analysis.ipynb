{
 "cells": [
  {
   "cell_type": "markdown",
   "metadata": {},
   "source": [
    "# Super Store Analysis"
   ]
  },
  {
   "cell_type": "markdown",
   "metadata": {},
   "source": [
    "---"
   ]
  },
  {
   "cell_type": "markdown",
   "metadata": {},
   "source": [
    "## Installing dependencies"
   ]
  },
  {
   "cell_type": "markdown",
   "metadata": {},
   "source": [
    "---"
   ]
  },
  {
   "cell_type": "code",
   "execution_count": 6,
   "metadata": {},
   "outputs": [],
   "source": [
    "# !pip install xlrd\n",
    "# !pip install pandas\n",
    "# !pip install numpy\n",
    "# !pip install mysql-connector-python\n",
    "# !pip install sqlalchemy\n",
    "# !pip install pymysql"
   ]
  },
  {
   "cell_type": "markdown",
   "metadata": {},
   "source": [
    "---"
   ]
  },
  {
   "cell_type": "markdown",
   "metadata": {},
   "source": [
    "## Setting up the environment"
   ]
  },
  {
   "cell_type": "code",
   "execution_count": 45,
   "metadata": {},
   "outputs": [],
   "source": [
    "import re\n",
    "import os\n",
    "import warnings\n",
    "import pandas as pd\n",
    "import numpy as np\n",
    "import mysql.connector as mysql\n",
    "from sqlalchemy import create_engine, text\n",
    "from sqlalchemy.exc import *\n",
    "from google.cloud import bigquery as bq\n",
    "from google.oauth2 import service_account\n",
    "\n",
    "os.environ['GOOGLE_APPLICATION_CREDENTIALS'] = 'explore29-33756158108f.json'\n",
    "warnings.filterwarnings('ignore')"
   ]
  },
  {
   "cell_type": "markdown",
   "metadata": {},
   "source": [
    "---"
   ]
  },
  {
   "cell_type": "markdown",
   "metadata": {},
   "source": [
    "## Extract (import data)"
   ]
  },
  {
   "cell_type": "code",
   "execution_count": 8,
   "metadata": {},
   "outputs": [],
   "source": [
    "file_path = 'data-src/Sample - Superstore.xls'\n",
    "orders_df = pd.read_excel(file_path, sheet_name=0, header=0)\n",
    "people_df = pd.read_excel(file_path, sheet_name=1, header=0)\n",
    "returns_df = pd.read_excel(file_path, sheet_name=2, header=0)"
   ]
  },
  {
   "cell_type": "markdown",
   "metadata": {},
   "source": [
    "---"
   ]
  },
  {
   "cell_type": "markdown",
   "metadata": {},
   "source": [
    "## Transform (clean and standardize data)"
   ]
  },
  {
   "cell_type": "markdown",
   "metadata": {},
   "source": [
    "### Orders\n",
    "\n",
    "#### Overview"
   ]
  },
  {
   "cell_type": "code",
   "execution_count": 9,
   "metadata": {},
   "outputs": [
    {
     "data": {
      "text/html": [
       "<div>\n",
       "<style scoped>\n",
       "    .dataframe tbody tr th:only-of-type {\n",
       "        vertical-align: middle;\n",
       "    }\n",
       "\n",
       "    .dataframe tbody tr th {\n",
       "        vertical-align: top;\n",
       "    }\n",
       "\n",
       "    .dataframe thead th {\n",
       "        text-align: right;\n",
       "    }\n",
       "</style>\n",
       "<table border=\"1\" class=\"dataframe\">\n",
       "  <thead>\n",
       "    <tr style=\"text-align: right;\">\n",
       "      <th></th>\n",
       "      <th>Row ID</th>\n",
       "      <th>Order ID</th>\n",
       "      <th>Order Date</th>\n",
       "      <th>Ship Date</th>\n",
       "      <th>Ship Mode</th>\n",
       "      <th>Customer ID</th>\n",
       "      <th>Customer Name</th>\n",
       "      <th>Segment</th>\n",
       "      <th>Country/Region</th>\n",
       "      <th>City</th>\n",
       "      <th>...</th>\n",
       "      <th>Postal Code</th>\n",
       "      <th>Region</th>\n",
       "      <th>Product ID</th>\n",
       "      <th>Category</th>\n",
       "      <th>Sub-Category</th>\n",
       "      <th>Product Name</th>\n",
       "      <th>Sales</th>\n",
       "      <th>Quantity</th>\n",
       "      <th>Discount</th>\n",
       "      <th>Profit</th>\n",
       "    </tr>\n",
       "  </thead>\n",
       "  <tbody>\n",
       "    <tr>\n",
       "      <th>0</th>\n",
       "      <td>1</td>\n",
       "      <td>US-2021-103800</td>\n",
       "      <td>2021-01-03</td>\n",
       "      <td>2021-01-07</td>\n",
       "      <td>Standard Class</td>\n",
       "      <td>DP-13000</td>\n",
       "      <td>Darren Powers</td>\n",
       "      <td>Consumer</td>\n",
       "      <td>United States</td>\n",
       "      <td>Houston</td>\n",
       "      <td>...</td>\n",
       "      <td>77095</td>\n",
       "      <td>Central</td>\n",
       "      <td>OFF-PA-10000174</td>\n",
       "      <td>Office Supplies</td>\n",
       "      <td>Paper</td>\n",
       "      <td>Message Book, Wirebound, Four 5 1/2\" X 4\" Form...</td>\n",
       "      <td>16.448</td>\n",
       "      <td>2</td>\n",
       "      <td>0.2</td>\n",
       "      <td>5.5512</td>\n",
       "    </tr>\n",
       "    <tr>\n",
       "      <th>1</th>\n",
       "      <td>2</td>\n",
       "      <td>US-2021-112326</td>\n",
       "      <td>2021-01-04</td>\n",
       "      <td>2021-01-08</td>\n",
       "      <td>Standard Class</td>\n",
       "      <td>PO-19195</td>\n",
       "      <td>Phillina Ober</td>\n",
       "      <td>Home Office</td>\n",
       "      <td>United States</td>\n",
       "      <td>Naperville</td>\n",
       "      <td>...</td>\n",
       "      <td>60540</td>\n",
       "      <td>Central</td>\n",
       "      <td>OFF-BI-10004094</td>\n",
       "      <td>Office Supplies</td>\n",
       "      <td>Binders</td>\n",
       "      <td>GBC Standard Plastic Binding Systems Combs</td>\n",
       "      <td>3.540</td>\n",
       "      <td>2</td>\n",
       "      <td>0.8</td>\n",
       "      <td>-5.4870</td>\n",
       "    </tr>\n",
       "    <tr>\n",
       "      <th>2</th>\n",
       "      <td>3</td>\n",
       "      <td>US-2021-112326</td>\n",
       "      <td>2021-01-04</td>\n",
       "      <td>2021-01-08</td>\n",
       "      <td>Standard Class</td>\n",
       "      <td>PO-19195</td>\n",
       "      <td>Phillina Ober</td>\n",
       "      <td>Home Office</td>\n",
       "      <td>United States</td>\n",
       "      <td>Naperville</td>\n",
       "      <td>...</td>\n",
       "      <td>60540</td>\n",
       "      <td>Central</td>\n",
       "      <td>OFF-LA-10003223</td>\n",
       "      <td>Office Supplies</td>\n",
       "      <td>Labels</td>\n",
       "      <td>Avery 508</td>\n",
       "      <td>11.784</td>\n",
       "      <td>3</td>\n",
       "      <td>0.2</td>\n",
       "      <td>4.2717</td>\n",
       "    </tr>\n",
       "    <tr>\n",
       "      <th>3</th>\n",
       "      <td>4</td>\n",
       "      <td>US-2021-112326</td>\n",
       "      <td>2021-01-04</td>\n",
       "      <td>2021-01-08</td>\n",
       "      <td>Standard Class</td>\n",
       "      <td>PO-19195</td>\n",
       "      <td>Phillina Ober</td>\n",
       "      <td>Home Office</td>\n",
       "      <td>United States</td>\n",
       "      <td>Naperville</td>\n",
       "      <td>...</td>\n",
       "      <td>60540</td>\n",
       "      <td>Central</td>\n",
       "      <td>OFF-ST-10002743</td>\n",
       "      <td>Office Supplies</td>\n",
       "      <td>Storage</td>\n",
       "      <td>SAFCO Boltless Steel Shelving</td>\n",
       "      <td>272.736</td>\n",
       "      <td>3</td>\n",
       "      <td>0.2</td>\n",
       "      <td>-64.7748</td>\n",
       "    </tr>\n",
       "    <tr>\n",
       "      <th>4</th>\n",
       "      <td>5</td>\n",
       "      <td>US-2021-141817</td>\n",
       "      <td>2021-01-05</td>\n",
       "      <td>2021-01-12</td>\n",
       "      <td>Standard Class</td>\n",
       "      <td>MB-18085</td>\n",
       "      <td>Mick Brown</td>\n",
       "      <td>Consumer</td>\n",
       "      <td>United States</td>\n",
       "      <td>Philadelphia</td>\n",
       "      <td>...</td>\n",
       "      <td>19143</td>\n",
       "      <td>East</td>\n",
       "      <td>OFF-AR-10003478</td>\n",
       "      <td>Office Supplies</td>\n",
       "      <td>Art</td>\n",
       "      <td>Avery Hi-Liter EverBold Pen Style Fluorescent ...</td>\n",
       "      <td>19.536</td>\n",
       "      <td>3</td>\n",
       "      <td>0.2</td>\n",
       "      <td>4.8840</td>\n",
       "    </tr>\n",
       "  </tbody>\n",
       "</table>\n",
       "<p>5 rows × 21 columns</p>\n",
       "</div>"
      ],
      "text/plain": [
       "   Row ID        Order ID Order Date  Ship Date       Ship Mode Customer ID  \\\n",
       "0       1  US-2021-103800 2021-01-03 2021-01-07  Standard Class    DP-13000   \n",
       "1       2  US-2021-112326 2021-01-04 2021-01-08  Standard Class    PO-19195   \n",
       "2       3  US-2021-112326 2021-01-04 2021-01-08  Standard Class    PO-19195   \n",
       "3       4  US-2021-112326 2021-01-04 2021-01-08  Standard Class    PO-19195   \n",
       "4       5  US-2021-141817 2021-01-05 2021-01-12  Standard Class    MB-18085   \n",
       "\n",
       "   Customer Name      Segment Country/Region          City  ... Postal Code  \\\n",
       "0  Darren Powers     Consumer  United States       Houston  ...       77095   \n",
       "1  Phillina Ober  Home Office  United States    Naperville  ...       60540   \n",
       "2  Phillina Ober  Home Office  United States    Naperville  ...       60540   \n",
       "3  Phillina Ober  Home Office  United States    Naperville  ...       60540   \n",
       "4     Mick Brown     Consumer  United States  Philadelphia  ...       19143   \n",
       "\n",
       "    Region       Product ID         Category Sub-Category  \\\n",
       "0  Central  OFF-PA-10000174  Office Supplies        Paper   \n",
       "1  Central  OFF-BI-10004094  Office Supplies      Binders   \n",
       "2  Central  OFF-LA-10003223  Office Supplies       Labels   \n",
       "3  Central  OFF-ST-10002743  Office Supplies      Storage   \n",
       "4     East  OFF-AR-10003478  Office Supplies          Art   \n",
       "\n",
       "                                        Product Name    Sales  Quantity  \\\n",
       "0  Message Book, Wirebound, Four 5 1/2\" X 4\" Form...   16.448         2   \n",
       "1         GBC Standard Plastic Binding Systems Combs    3.540         2   \n",
       "2                                          Avery 508   11.784         3   \n",
       "3                      SAFCO Boltless Steel Shelving  272.736         3   \n",
       "4  Avery Hi-Liter EverBold Pen Style Fluorescent ...   19.536         3   \n",
       "\n",
       "   Discount   Profit  \n",
       "0       0.2   5.5512  \n",
       "1       0.8  -5.4870  \n",
       "2       0.2   4.2717  \n",
       "3       0.2 -64.7748  \n",
       "4       0.2   4.8840  \n",
       "\n",
       "[5 rows x 21 columns]"
      ]
     },
     "execution_count": 9,
     "metadata": {},
     "output_type": "execute_result"
    }
   ],
   "source": [
    "orders_df.head()"
   ]
  },
  {
   "cell_type": "code",
   "execution_count": 10,
   "metadata": {},
   "outputs": [
    {
     "data": {
      "text/html": [
       "<div>\n",
       "<style scoped>\n",
       "    .dataframe tbody tr th:only-of-type {\n",
       "        vertical-align: middle;\n",
       "    }\n",
       "\n",
       "    .dataframe tbody tr th {\n",
       "        vertical-align: top;\n",
       "    }\n",
       "\n",
       "    .dataframe thead th {\n",
       "        text-align: right;\n",
       "    }\n",
       "</style>\n",
       "<table border=\"1\" class=\"dataframe\">\n",
       "  <thead>\n",
       "    <tr style=\"text-align: right;\">\n",
       "      <th></th>\n",
       "      <th>Row ID</th>\n",
       "      <th>Order ID</th>\n",
       "      <th>Order Date</th>\n",
       "      <th>Ship Date</th>\n",
       "      <th>Ship Mode</th>\n",
       "      <th>Customer ID</th>\n",
       "      <th>Customer Name</th>\n",
       "      <th>Segment</th>\n",
       "      <th>Country/Region</th>\n",
       "      <th>City</th>\n",
       "      <th>...</th>\n",
       "      <th>Postal Code</th>\n",
       "      <th>Region</th>\n",
       "      <th>Product ID</th>\n",
       "      <th>Category</th>\n",
       "      <th>Sub-Category</th>\n",
       "      <th>Product Name</th>\n",
       "      <th>Sales</th>\n",
       "      <th>Quantity</th>\n",
       "      <th>Discount</th>\n",
       "      <th>Profit</th>\n",
       "    </tr>\n",
       "  </thead>\n",
       "  <tbody>\n",
       "    <tr>\n",
       "      <th>10189</th>\n",
       "      <td>10190</td>\n",
       "      <td>US-2024-143259</td>\n",
       "      <td>2024-12-30</td>\n",
       "      <td>2025-01-03</td>\n",
       "      <td>Standard Class</td>\n",
       "      <td>PO-18865</td>\n",
       "      <td>Patrick O'Donnell</td>\n",
       "      <td>Consumer</td>\n",
       "      <td>United States</td>\n",
       "      <td>New York City</td>\n",
       "      <td>...</td>\n",
       "      <td>10009</td>\n",
       "      <td>East</td>\n",
       "      <td>OFF-BI-10003684</td>\n",
       "      <td>Office Supplies</td>\n",
       "      <td>Binders</td>\n",
       "      <td>Wilson Jones Legal Size Ring Binders</td>\n",
       "      <td>52.776</td>\n",
       "      <td>3</td>\n",
       "      <td>0.2</td>\n",
       "      <td>19.7910</td>\n",
       "    </tr>\n",
       "    <tr>\n",
       "      <th>10190</th>\n",
       "      <td>10191</td>\n",
       "      <td>US-2024-115427</td>\n",
       "      <td>2024-12-30</td>\n",
       "      <td>2025-01-03</td>\n",
       "      <td>Standard Class</td>\n",
       "      <td>EB-13975</td>\n",
       "      <td>Erica Bern</td>\n",
       "      <td>Corporate</td>\n",
       "      <td>United States</td>\n",
       "      <td>Fairfield</td>\n",
       "      <td>...</td>\n",
       "      <td>94533</td>\n",
       "      <td>West</td>\n",
       "      <td>OFF-BI-10004632</td>\n",
       "      <td>Office Supplies</td>\n",
       "      <td>Binders</td>\n",
       "      <td>GBC Binding covers</td>\n",
       "      <td>20.720</td>\n",
       "      <td>2</td>\n",
       "      <td>0.2</td>\n",
       "      <td>6.4750</td>\n",
       "    </tr>\n",
       "    <tr>\n",
       "      <th>10191</th>\n",
       "      <td>10192</td>\n",
       "      <td>US-2024-156720</td>\n",
       "      <td>2024-12-30</td>\n",
       "      <td>2025-01-03</td>\n",
       "      <td>Standard Class</td>\n",
       "      <td>JM-15580</td>\n",
       "      <td>Jill Matthias</td>\n",
       "      <td>Consumer</td>\n",
       "      <td>United States</td>\n",
       "      <td>Loveland</td>\n",
       "      <td>...</td>\n",
       "      <td>80538</td>\n",
       "      <td>West</td>\n",
       "      <td>OFF-FA-10003472</td>\n",
       "      <td>Office Supplies</td>\n",
       "      <td>Fasteners</td>\n",
       "      <td>Bagged Rubber Bands</td>\n",
       "      <td>3.024</td>\n",
       "      <td>3</td>\n",
       "      <td>0.2</td>\n",
       "      <td>-0.6048</td>\n",
       "    </tr>\n",
       "    <tr>\n",
       "      <th>10192</th>\n",
       "      <td>10193</td>\n",
       "      <td>US-2024-143259</td>\n",
       "      <td>2024-12-30</td>\n",
       "      <td>2025-01-03</td>\n",
       "      <td>Standard Class</td>\n",
       "      <td>PO-18865</td>\n",
       "      <td>Patrick O'Donnell</td>\n",
       "      <td>Consumer</td>\n",
       "      <td>United States</td>\n",
       "      <td>New York City</td>\n",
       "      <td>...</td>\n",
       "      <td>10009</td>\n",
       "      <td>East</td>\n",
       "      <td>TEC-PH-10004774</td>\n",
       "      <td>Technology</td>\n",
       "      <td>Phones</td>\n",
       "      <td>Gear Head AU3700S Headset</td>\n",
       "      <td>90.930</td>\n",
       "      <td>7</td>\n",
       "      <td>0.0</td>\n",
       "      <td>2.7279</td>\n",
       "    </tr>\n",
       "    <tr>\n",
       "      <th>10193</th>\n",
       "      <td>10194</td>\n",
       "      <td>CA-2024-143500</td>\n",
       "      <td>2024-12-30</td>\n",
       "      <td>2025-01-03</td>\n",
       "      <td>Standard Class</td>\n",
       "      <td>HO-15230</td>\n",
       "      <td>Harry Olson</td>\n",
       "      <td>Consumer</td>\n",
       "      <td>Canada</td>\n",
       "      <td>Charlottetown</td>\n",
       "      <td>...</td>\n",
       "      <td>C0A</td>\n",
       "      <td>East</td>\n",
       "      <td>OFF-BI-10004040</td>\n",
       "      <td>Office Supplies</td>\n",
       "      <td>Binders</td>\n",
       "      <td>Wilson Jones Impact Binders</td>\n",
       "      <td>3.024</td>\n",
       "      <td>3</td>\n",
       "      <td>0.2</td>\n",
       "      <td>-0.6048</td>\n",
       "    </tr>\n",
       "  </tbody>\n",
       "</table>\n",
       "<p>5 rows × 21 columns</p>\n",
       "</div>"
      ],
      "text/plain": [
       "       Row ID        Order ID Order Date  Ship Date       Ship Mode  \\\n",
       "10189   10190  US-2024-143259 2024-12-30 2025-01-03  Standard Class   \n",
       "10190   10191  US-2024-115427 2024-12-30 2025-01-03  Standard Class   \n",
       "10191   10192  US-2024-156720 2024-12-30 2025-01-03  Standard Class   \n",
       "10192   10193  US-2024-143259 2024-12-30 2025-01-03  Standard Class   \n",
       "10193   10194  CA-2024-143500 2024-12-30 2025-01-03  Standard Class   \n",
       "\n",
       "      Customer ID      Customer Name    Segment Country/Region           City  \\\n",
       "10189    PO-18865  Patrick O'Donnell   Consumer  United States  New York City   \n",
       "10190    EB-13975         Erica Bern  Corporate  United States      Fairfield   \n",
       "10191    JM-15580      Jill Matthias   Consumer  United States       Loveland   \n",
       "10192    PO-18865  Patrick O'Donnell   Consumer  United States  New York City   \n",
       "10193    HO-15230        Harry Olson   Consumer         Canada  Charlottetown   \n",
       "\n",
       "       ... Postal Code Region       Product ID         Category Sub-Category  \\\n",
       "10189  ...       10009   East  OFF-BI-10003684  Office Supplies      Binders   \n",
       "10190  ...       94533   West  OFF-BI-10004632  Office Supplies      Binders   \n",
       "10191  ...       80538   West  OFF-FA-10003472  Office Supplies    Fasteners   \n",
       "10192  ...       10009   East  TEC-PH-10004774       Technology       Phones   \n",
       "10193  ...         C0A   East  OFF-BI-10004040  Office Supplies      Binders   \n",
       "\n",
       "                               Product Name   Sales  Quantity  Discount  \\\n",
       "10189  Wilson Jones Legal Size Ring Binders  52.776         3       0.2   \n",
       "10190                    GBC Binding covers  20.720         2       0.2   \n",
       "10191                   Bagged Rubber Bands   3.024         3       0.2   \n",
       "10192             Gear Head AU3700S Headset  90.930         7       0.0   \n",
       "10193           Wilson Jones Impact Binders   3.024         3       0.2   \n",
       "\n",
       "        Profit  \n",
       "10189  19.7910  \n",
       "10190   6.4750  \n",
       "10191  -0.6048  \n",
       "10192   2.7279  \n",
       "10193  -0.6048  \n",
       "\n",
       "[5 rows x 21 columns]"
      ]
     },
     "execution_count": 10,
     "metadata": {},
     "output_type": "execute_result"
    }
   ],
   "source": [
    "orders_df.tail()"
   ]
  },
  {
   "cell_type": "code",
   "execution_count": 11,
   "metadata": {},
   "outputs": [
    {
     "data": {
      "text/plain": [
       "(10194, 21)"
      ]
     },
     "execution_count": 11,
     "metadata": {},
     "output_type": "execute_result"
    }
   ],
   "source": [
    "orders_df.shape"
   ]
  },
  {
   "cell_type": "code",
   "execution_count": 12,
   "metadata": {},
   "outputs": [
    {
     "name": "stdout",
     "output_type": "stream",
     "text": [
      "<class 'pandas.core.frame.DataFrame'>\n",
      "RangeIndex: 10194 entries, 0 to 10193\n",
      "Data columns (total 21 columns):\n",
      " #   Column          Non-Null Count  Dtype         \n",
      "---  ------          --------------  -----         \n",
      " 0   Row ID          10194 non-null  int64         \n",
      " 1   Order ID        10194 non-null  object        \n",
      " 2   Order Date      10194 non-null  datetime64[ns]\n",
      " 3   Ship Date       10194 non-null  datetime64[ns]\n",
      " 4   Ship Mode       10194 non-null  object        \n",
      " 5   Customer ID     10194 non-null  object        \n",
      " 6   Customer Name   10194 non-null  object        \n",
      " 7   Segment         10194 non-null  object        \n",
      " 8   Country/Region  10194 non-null  object        \n",
      " 9   City            10194 non-null  object        \n",
      " 10  State/Province  10194 non-null  object        \n",
      " 11  Postal Code     10194 non-null  object        \n",
      " 12  Region          10194 non-null  object        \n",
      " 13  Product ID      10194 non-null  object        \n",
      " 14  Category        10194 non-null  object        \n",
      " 15  Sub-Category    10194 non-null  object        \n",
      " 16  Product Name    10194 non-null  object        \n",
      " 17  Sales           10194 non-null  float64       \n",
      " 18  Quantity        10194 non-null  int64         \n",
      " 19  Discount        10194 non-null  float64       \n",
      " 20  Profit          10194 non-null  float64       \n",
      "dtypes: datetime64[ns](2), float64(3), int64(2), object(14)\n",
      "memory usage: 1.6+ MB\n"
     ]
    }
   ],
   "source": [
    "orders_df.info()"
   ]
  },
  {
   "cell_type": "markdown",
   "metadata": {},
   "source": [
    "#### Cleaning\n",
    "\n",
    "**Check for duplicates**"
   ]
  },
  {
   "cell_type": "code",
   "execution_count": 13,
   "metadata": {},
   "outputs": [
    {
     "name": "stdout",
     "output_type": "stream",
     "text": [
      "0\n"
     ]
    }
   ],
   "source": [
    "print(orders_df.duplicated().sum())"
   ]
  },
  {
   "cell_type": "markdown",
   "metadata": {},
   "source": [
    "**Check for null values**"
   ]
  },
  {
   "cell_type": "code",
   "execution_count": 14,
   "metadata": {},
   "outputs": [
    {
     "name": "stdout",
     "output_type": "stream",
     "text": [
      "Row ID            0\n",
      "Order ID          0\n",
      "Order Date        0\n",
      "Ship Date         0\n",
      "Ship Mode         0\n",
      "Customer ID       0\n",
      "Customer Name     0\n",
      "Segment           0\n",
      "Country/Region    0\n",
      "City              0\n",
      "State/Province    0\n",
      "Postal Code       0\n",
      "Region            0\n",
      "Product ID        0\n",
      "Category          0\n",
      "Sub-Category      0\n",
      "Product Name      0\n",
      "Sales             0\n",
      "Quantity          0\n",
      "Discount          0\n",
      "Profit            0\n",
      "dtype: int64\n"
     ]
    }
   ],
   "source": [
    "print(orders_df.isnull().sum())"
   ]
  },
  {
   "cell_type": "markdown",
   "metadata": {},
   "source": [
    "#### Renaming headers"
   ]
  },
  {
   "cell_type": "code",
   "execution_count": 15,
   "metadata": {},
   "outputs": [],
   "source": [
    "def snake_case(data:str) -> str:\n",
    "\treturn(data.lower().strip().replace(' ','_').replace('-', '_'))"
   ]
  },
  {
   "cell_type": "code",
   "execution_count": 16,
   "metadata": {},
   "outputs": [],
   "source": [
    "orders_df = orders_df.rename(columns={\n",
    "\t'Country/Region': 'country',\n",
    "    'State/Province': 'province',\n",
    "    'Postal Code': 'post_code'\n",
    "})\n",
    "\n",
    "orders_df.columns = [snake_case(col) for col in orders_df.columns]"
   ]
  },
  {
   "cell_type": "markdown",
   "metadata": {},
   "source": [
    "#### Final inspection"
   ]
  },
  {
   "cell_type": "code",
   "execution_count": 17,
   "metadata": {},
   "outputs": [
    {
     "name": "stdout",
     "output_type": "stream",
     "text": [
      "<class 'pandas.core.frame.DataFrame'>\n",
      "RangeIndex: 10194 entries, 0 to 10193\n",
      "Data columns (total 21 columns):\n",
      " #   Column         Non-Null Count  Dtype         \n",
      "---  ------         --------------  -----         \n",
      " 0   row_id         10194 non-null  int64         \n",
      " 1   order_id       10194 non-null  object        \n",
      " 2   order_date     10194 non-null  datetime64[ns]\n",
      " 3   ship_date      10194 non-null  datetime64[ns]\n",
      " 4   ship_mode      10194 non-null  object        \n",
      " 5   customer_id    10194 non-null  object        \n",
      " 6   customer_name  10194 non-null  object        \n",
      " 7   segment        10194 non-null  object        \n",
      " 8   country        10194 non-null  object        \n",
      " 9   city           10194 non-null  object        \n",
      " 10  province       10194 non-null  object        \n",
      " 11  post_code      10194 non-null  object        \n",
      " 12  region         10194 non-null  object        \n",
      " 13  product_id     10194 non-null  object        \n",
      " 14  category       10194 non-null  object        \n",
      " 15  sub_category   10194 non-null  object        \n",
      " 16  product_name   10194 non-null  object        \n",
      " 17  sales          10194 non-null  float64       \n",
      " 18  quantity       10194 non-null  int64         \n",
      " 19  discount       10194 non-null  float64       \n",
      " 20  profit         10194 non-null  float64       \n",
      "dtypes: datetime64[ns](2), float64(3), int64(2), object(14)\n",
      "memory usage: 1.6+ MB\n"
     ]
    },
    {
     "data": {
      "text/plain": [
       "None"
      ]
     },
     "metadata": {},
     "output_type": "display_data"
    },
    {
     "data": {
      "text/html": [
       "<div>\n",
       "<style scoped>\n",
       "    .dataframe tbody tr th:only-of-type {\n",
       "        vertical-align: middle;\n",
       "    }\n",
       "\n",
       "    .dataframe tbody tr th {\n",
       "        vertical-align: top;\n",
       "    }\n",
       "\n",
       "    .dataframe thead th {\n",
       "        text-align: right;\n",
       "    }\n",
       "</style>\n",
       "<table border=\"1\" class=\"dataframe\">\n",
       "  <thead>\n",
       "    <tr style=\"text-align: right;\">\n",
       "      <th></th>\n",
       "      <th>row_id</th>\n",
       "      <th>order_id</th>\n",
       "      <th>order_date</th>\n",
       "      <th>ship_date</th>\n",
       "      <th>ship_mode</th>\n",
       "      <th>customer_id</th>\n",
       "      <th>customer_name</th>\n",
       "      <th>segment</th>\n",
       "      <th>country</th>\n",
       "      <th>city</th>\n",
       "      <th>...</th>\n",
       "      <th>post_code</th>\n",
       "      <th>region</th>\n",
       "      <th>product_id</th>\n",
       "      <th>category</th>\n",
       "      <th>sub_category</th>\n",
       "      <th>product_name</th>\n",
       "      <th>sales</th>\n",
       "      <th>quantity</th>\n",
       "      <th>discount</th>\n",
       "      <th>profit</th>\n",
       "    </tr>\n",
       "  </thead>\n",
       "  <tbody>\n",
       "    <tr>\n",
       "      <th>0</th>\n",
       "      <td>1</td>\n",
       "      <td>US-2021-103800</td>\n",
       "      <td>2021-01-03</td>\n",
       "      <td>2021-01-07</td>\n",
       "      <td>Standard Class</td>\n",
       "      <td>DP-13000</td>\n",
       "      <td>Darren Powers</td>\n",
       "      <td>Consumer</td>\n",
       "      <td>United States</td>\n",
       "      <td>Houston</td>\n",
       "      <td>...</td>\n",
       "      <td>77095</td>\n",
       "      <td>Central</td>\n",
       "      <td>OFF-PA-10000174</td>\n",
       "      <td>Office Supplies</td>\n",
       "      <td>Paper</td>\n",
       "      <td>Message Book, Wirebound, Four 5 1/2\" X 4\" Form...</td>\n",
       "      <td>16.448</td>\n",
       "      <td>2</td>\n",
       "      <td>0.2</td>\n",
       "      <td>5.5512</td>\n",
       "    </tr>\n",
       "    <tr>\n",
       "      <th>1</th>\n",
       "      <td>2</td>\n",
       "      <td>US-2021-112326</td>\n",
       "      <td>2021-01-04</td>\n",
       "      <td>2021-01-08</td>\n",
       "      <td>Standard Class</td>\n",
       "      <td>PO-19195</td>\n",
       "      <td>Phillina Ober</td>\n",
       "      <td>Home Office</td>\n",
       "      <td>United States</td>\n",
       "      <td>Naperville</td>\n",
       "      <td>...</td>\n",
       "      <td>60540</td>\n",
       "      <td>Central</td>\n",
       "      <td>OFF-BI-10004094</td>\n",
       "      <td>Office Supplies</td>\n",
       "      <td>Binders</td>\n",
       "      <td>GBC Standard Plastic Binding Systems Combs</td>\n",
       "      <td>3.540</td>\n",
       "      <td>2</td>\n",
       "      <td>0.8</td>\n",
       "      <td>-5.4870</td>\n",
       "    </tr>\n",
       "    <tr>\n",
       "      <th>2</th>\n",
       "      <td>3</td>\n",
       "      <td>US-2021-112326</td>\n",
       "      <td>2021-01-04</td>\n",
       "      <td>2021-01-08</td>\n",
       "      <td>Standard Class</td>\n",
       "      <td>PO-19195</td>\n",
       "      <td>Phillina Ober</td>\n",
       "      <td>Home Office</td>\n",
       "      <td>United States</td>\n",
       "      <td>Naperville</td>\n",
       "      <td>...</td>\n",
       "      <td>60540</td>\n",
       "      <td>Central</td>\n",
       "      <td>OFF-LA-10003223</td>\n",
       "      <td>Office Supplies</td>\n",
       "      <td>Labels</td>\n",
       "      <td>Avery 508</td>\n",
       "      <td>11.784</td>\n",
       "      <td>3</td>\n",
       "      <td>0.2</td>\n",
       "      <td>4.2717</td>\n",
       "    </tr>\n",
       "    <tr>\n",
       "      <th>3</th>\n",
       "      <td>4</td>\n",
       "      <td>US-2021-112326</td>\n",
       "      <td>2021-01-04</td>\n",
       "      <td>2021-01-08</td>\n",
       "      <td>Standard Class</td>\n",
       "      <td>PO-19195</td>\n",
       "      <td>Phillina Ober</td>\n",
       "      <td>Home Office</td>\n",
       "      <td>United States</td>\n",
       "      <td>Naperville</td>\n",
       "      <td>...</td>\n",
       "      <td>60540</td>\n",
       "      <td>Central</td>\n",
       "      <td>OFF-ST-10002743</td>\n",
       "      <td>Office Supplies</td>\n",
       "      <td>Storage</td>\n",
       "      <td>SAFCO Boltless Steel Shelving</td>\n",
       "      <td>272.736</td>\n",
       "      <td>3</td>\n",
       "      <td>0.2</td>\n",
       "      <td>-64.7748</td>\n",
       "    </tr>\n",
       "    <tr>\n",
       "      <th>4</th>\n",
       "      <td>5</td>\n",
       "      <td>US-2021-141817</td>\n",
       "      <td>2021-01-05</td>\n",
       "      <td>2021-01-12</td>\n",
       "      <td>Standard Class</td>\n",
       "      <td>MB-18085</td>\n",
       "      <td>Mick Brown</td>\n",
       "      <td>Consumer</td>\n",
       "      <td>United States</td>\n",
       "      <td>Philadelphia</td>\n",
       "      <td>...</td>\n",
       "      <td>19143</td>\n",
       "      <td>East</td>\n",
       "      <td>OFF-AR-10003478</td>\n",
       "      <td>Office Supplies</td>\n",
       "      <td>Art</td>\n",
       "      <td>Avery Hi-Liter EverBold Pen Style Fluorescent ...</td>\n",
       "      <td>19.536</td>\n",
       "      <td>3</td>\n",
       "      <td>0.2</td>\n",
       "      <td>4.8840</td>\n",
       "    </tr>\n",
       "  </tbody>\n",
       "</table>\n",
       "<p>5 rows × 21 columns</p>\n",
       "</div>"
      ],
      "text/plain": [
       "   row_id        order_id order_date  ship_date       ship_mode customer_id  \\\n",
       "0       1  US-2021-103800 2021-01-03 2021-01-07  Standard Class    DP-13000   \n",
       "1       2  US-2021-112326 2021-01-04 2021-01-08  Standard Class    PO-19195   \n",
       "2       3  US-2021-112326 2021-01-04 2021-01-08  Standard Class    PO-19195   \n",
       "3       4  US-2021-112326 2021-01-04 2021-01-08  Standard Class    PO-19195   \n",
       "4       5  US-2021-141817 2021-01-05 2021-01-12  Standard Class    MB-18085   \n",
       "\n",
       "   customer_name      segment        country          city  ... post_code  \\\n",
       "0  Darren Powers     Consumer  United States       Houston  ...     77095   \n",
       "1  Phillina Ober  Home Office  United States    Naperville  ...     60540   \n",
       "2  Phillina Ober  Home Office  United States    Naperville  ...     60540   \n",
       "3  Phillina Ober  Home Office  United States    Naperville  ...     60540   \n",
       "4     Mick Brown     Consumer  United States  Philadelphia  ...     19143   \n",
       "\n",
       "    region       product_id         category sub_category  \\\n",
       "0  Central  OFF-PA-10000174  Office Supplies        Paper   \n",
       "1  Central  OFF-BI-10004094  Office Supplies      Binders   \n",
       "2  Central  OFF-LA-10003223  Office Supplies       Labels   \n",
       "3  Central  OFF-ST-10002743  Office Supplies      Storage   \n",
       "4     East  OFF-AR-10003478  Office Supplies          Art   \n",
       "\n",
       "                                        product_name    sales  quantity  \\\n",
       "0  Message Book, Wirebound, Four 5 1/2\" X 4\" Form...   16.448         2   \n",
       "1         GBC Standard Plastic Binding Systems Combs    3.540         2   \n",
       "2                                          Avery 508   11.784         3   \n",
       "3                      SAFCO Boltless Steel Shelving  272.736         3   \n",
       "4  Avery Hi-Liter EverBold Pen Style Fluorescent ...   19.536         3   \n",
       "\n",
       "   discount   profit  \n",
       "0       0.2   5.5512  \n",
       "1       0.8  -5.4870  \n",
       "2       0.2   4.2717  \n",
       "3       0.2 -64.7748  \n",
       "4       0.2   4.8840  \n",
       "\n",
       "[5 rows x 21 columns]"
      ]
     },
     "metadata": {},
     "output_type": "display_data"
    }
   ],
   "source": [
    "display(\n",
    "\torders_df.info(),\n",
    "\torders_df.head()\n",
    ")"
   ]
  },
  {
   "cell_type": "markdown",
   "metadata": {},
   "source": [
    "---"
   ]
  },
  {
   "cell_type": "markdown",
   "metadata": {},
   "source": [
    "### People\n",
    "\n",
    "#### Overview"
   ]
  },
  {
   "cell_type": "code",
   "execution_count": 18,
   "metadata": {},
   "outputs": [
    {
     "data": {
      "text/html": [
       "<div>\n",
       "<style scoped>\n",
       "    .dataframe tbody tr th:only-of-type {\n",
       "        vertical-align: middle;\n",
       "    }\n",
       "\n",
       "    .dataframe tbody tr th {\n",
       "        vertical-align: top;\n",
       "    }\n",
       "\n",
       "    .dataframe thead th {\n",
       "        text-align: right;\n",
       "    }\n",
       "</style>\n",
       "<table border=\"1\" class=\"dataframe\">\n",
       "  <thead>\n",
       "    <tr style=\"text-align: right;\">\n",
       "      <th></th>\n",
       "      <th>Regional Manager</th>\n",
       "      <th>Region</th>\n",
       "    </tr>\n",
       "  </thead>\n",
       "  <tbody>\n",
       "    <tr>\n",
       "      <th>0</th>\n",
       "      <td>Sadie Pawthorne</td>\n",
       "      <td>West</td>\n",
       "    </tr>\n",
       "    <tr>\n",
       "      <th>1</th>\n",
       "      <td>Chuck Magee</td>\n",
       "      <td>East</td>\n",
       "    </tr>\n",
       "    <tr>\n",
       "      <th>2</th>\n",
       "      <td>Roxanne Rodriguez</td>\n",
       "      <td>Central</td>\n",
       "    </tr>\n",
       "    <tr>\n",
       "      <th>3</th>\n",
       "      <td>Fred Suzuki</td>\n",
       "      <td>South</td>\n",
       "    </tr>\n",
       "  </tbody>\n",
       "</table>\n",
       "</div>"
      ],
      "text/plain": [
       "    Regional Manager   Region\n",
       "0    Sadie Pawthorne     West\n",
       "1        Chuck Magee     East\n",
       "2  Roxanne Rodriguez  Central\n",
       "3        Fred Suzuki    South"
      ]
     },
     "execution_count": 18,
     "metadata": {},
     "output_type": "execute_result"
    }
   ],
   "source": [
    "people_df.head()"
   ]
  },
  {
   "cell_type": "code",
   "execution_count": 19,
   "metadata": {},
   "outputs": [
    {
     "name": "stdout",
     "output_type": "stream",
     "text": [
      "<class 'pandas.core.frame.DataFrame'>\n",
      "RangeIndex: 4 entries, 0 to 3\n",
      "Data columns (total 2 columns):\n",
      " #   Column            Non-Null Count  Dtype \n",
      "---  ------            --------------  ----- \n",
      " 0   Regional Manager  4 non-null      object\n",
      " 1   Region            4 non-null      object\n",
      "dtypes: object(2)\n",
      "memory usage: 196.0+ bytes\n"
     ]
    }
   ],
   "source": [
    "people_df.info()"
   ]
  },
  {
   "cell_type": "markdown",
   "metadata": {},
   "source": [
    "#### Renaming headers"
   ]
  },
  {
   "cell_type": "code",
   "execution_count": 20,
   "metadata": {},
   "outputs": [],
   "source": [
    "people_df = people_df.rename(columns={\n",
    "\t'Regional Manager': 'manager',\n",
    "    'Region': 'region'\n",
    "})"
   ]
  },
  {
   "cell_type": "markdown",
   "metadata": {},
   "source": [
    "#### Final inspection"
   ]
  },
  {
   "cell_type": "code",
   "execution_count": 21,
   "metadata": {},
   "outputs": [
    {
     "data": {
      "text/html": [
       "<div>\n",
       "<style scoped>\n",
       "    .dataframe tbody tr th:only-of-type {\n",
       "        vertical-align: middle;\n",
       "    }\n",
       "\n",
       "    .dataframe tbody tr th {\n",
       "        vertical-align: top;\n",
       "    }\n",
       "\n",
       "    .dataframe thead th {\n",
       "        text-align: right;\n",
       "    }\n",
       "</style>\n",
       "<table border=\"1\" class=\"dataframe\">\n",
       "  <thead>\n",
       "    <tr style=\"text-align: right;\">\n",
       "      <th></th>\n",
       "      <th>manager</th>\n",
       "      <th>region</th>\n",
       "    </tr>\n",
       "  </thead>\n",
       "  <tbody>\n",
       "    <tr>\n",
       "      <th>0</th>\n",
       "      <td>Sadie Pawthorne</td>\n",
       "      <td>West</td>\n",
       "    </tr>\n",
       "    <tr>\n",
       "      <th>1</th>\n",
       "      <td>Chuck Magee</td>\n",
       "      <td>East</td>\n",
       "    </tr>\n",
       "    <tr>\n",
       "      <th>2</th>\n",
       "      <td>Roxanne Rodriguez</td>\n",
       "      <td>Central</td>\n",
       "    </tr>\n",
       "    <tr>\n",
       "      <th>3</th>\n",
       "      <td>Fred Suzuki</td>\n",
       "      <td>South</td>\n",
       "    </tr>\n",
       "  </tbody>\n",
       "</table>\n",
       "</div>"
      ],
      "text/plain": [
       "             manager   region\n",
       "0    Sadie Pawthorne     West\n",
       "1        Chuck Magee     East\n",
       "2  Roxanne Rodriguez  Central\n",
       "3        Fred Suzuki    South"
      ]
     },
     "execution_count": 21,
     "metadata": {},
     "output_type": "execute_result"
    }
   ],
   "source": [
    "people_df.tail()"
   ]
  },
  {
   "cell_type": "markdown",
   "metadata": {},
   "source": [
    "---"
   ]
  },
  {
   "cell_type": "markdown",
   "metadata": {},
   "source": [
    "### Returns"
   ]
  },
  {
   "cell_type": "markdown",
   "metadata": {},
   "source": [
    "#### Overview"
   ]
  },
  {
   "cell_type": "code",
   "execution_count": 22,
   "metadata": {},
   "outputs": [
    {
     "data": {
      "text/html": [
       "<div>\n",
       "<style scoped>\n",
       "    .dataframe tbody tr th:only-of-type {\n",
       "        vertical-align: middle;\n",
       "    }\n",
       "\n",
       "    .dataframe tbody tr th {\n",
       "        vertical-align: top;\n",
       "    }\n",
       "\n",
       "    .dataframe thead th {\n",
       "        text-align: right;\n",
       "    }\n",
       "</style>\n",
       "<table border=\"1\" class=\"dataframe\">\n",
       "  <thead>\n",
       "    <tr style=\"text-align: right;\">\n",
       "      <th></th>\n",
       "      <th>Returned</th>\n",
       "      <th>Order ID</th>\n",
       "    </tr>\n",
       "  </thead>\n",
       "  <tbody>\n",
       "    <tr>\n",
       "      <th>0</th>\n",
       "      <td>Yes</td>\n",
       "      <td>US-2021-100762</td>\n",
       "    </tr>\n",
       "    <tr>\n",
       "      <th>1</th>\n",
       "      <td>Yes</td>\n",
       "      <td>US-2021-100762</td>\n",
       "    </tr>\n",
       "    <tr>\n",
       "      <th>2</th>\n",
       "      <td>Yes</td>\n",
       "      <td>US-2021-100762</td>\n",
       "    </tr>\n",
       "    <tr>\n",
       "      <th>3</th>\n",
       "      <td>Yes</td>\n",
       "      <td>US-2021-100762</td>\n",
       "    </tr>\n",
       "    <tr>\n",
       "      <th>4</th>\n",
       "      <td>Yes</td>\n",
       "      <td>US-2021-100867</td>\n",
       "    </tr>\n",
       "  </tbody>\n",
       "</table>\n",
       "</div>"
      ],
      "text/plain": [
       "  Returned        Order ID\n",
       "0      Yes  US-2021-100762\n",
       "1      Yes  US-2021-100762\n",
       "2      Yes  US-2021-100762\n",
       "3      Yes  US-2021-100762\n",
       "4      Yes  US-2021-100867"
      ]
     },
     "execution_count": 22,
     "metadata": {},
     "output_type": "execute_result"
    }
   ],
   "source": [
    "returns_df.head()"
   ]
  },
  {
   "cell_type": "code",
   "execution_count": 23,
   "metadata": {},
   "outputs": [
    {
     "data": {
      "text/html": [
       "<div>\n",
       "<style scoped>\n",
       "    .dataframe tbody tr th:only-of-type {\n",
       "        vertical-align: middle;\n",
       "    }\n",
       "\n",
       "    .dataframe tbody tr th {\n",
       "        vertical-align: top;\n",
       "    }\n",
       "\n",
       "    .dataframe thead th {\n",
       "        text-align: right;\n",
       "    }\n",
       "</style>\n",
       "<table border=\"1\" class=\"dataframe\">\n",
       "  <thead>\n",
       "    <tr style=\"text-align: right;\">\n",
       "      <th></th>\n",
       "      <th>Returned</th>\n",
       "      <th>Order ID</th>\n",
       "    </tr>\n",
       "  </thead>\n",
       "  <tbody>\n",
       "    <tr>\n",
       "      <th>795</th>\n",
       "      <td>Yes</td>\n",
       "      <td>US-2024-147886</td>\n",
       "    </tr>\n",
       "    <tr>\n",
       "      <th>796</th>\n",
       "      <td>Yes</td>\n",
       "      <td>US-2024-147998</td>\n",
       "    </tr>\n",
       "    <tr>\n",
       "      <th>797</th>\n",
       "      <td>Yes</td>\n",
       "      <td>US-2024-151127</td>\n",
       "    </tr>\n",
       "    <tr>\n",
       "      <th>798</th>\n",
       "      <td>Yes</td>\n",
       "      <td>US-2024-155999</td>\n",
       "    </tr>\n",
       "    <tr>\n",
       "      <th>799</th>\n",
       "      <td>Yes</td>\n",
       "      <td>US-2024-155999</td>\n",
       "    </tr>\n",
       "  </tbody>\n",
       "</table>\n",
       "</div>"
      ],
      "text/plain": [
       "    Returned        Order ID\n",
       "795      Yes  US-2024-147886\n",
       "796      Yes  US-2024-147998\n",
       "797      Yes  US-2024-151127\n",
       "798      Yes  US-2024-155999\n",
       "799      Yes  US-2024-155999"
      ]
     },
     "execution_count": 23,
     "metadata": {},
     "output_type": "execute_result"
    }
   ],
   "source": [
    "returns_df.tail()"
   ]
  },
  {
   "cell_type": "code",
   "execution_count": 24,
   "metadata": {},
   "outputs": [
    {
     "name": "stdout",
     "output_type": "stream",
     "text": [
      "<class 'pandas.core.frame.DataFrame'>\n",
      "RangeIndex: 800 entries, 0 to 799\n",
      "Data columns (total 2 columns):\n",
      " #   Column    Non-Null Count  Dtype \n",
      "---  ------    --------------  ----- \n",
      " 0   Returned  800 non-null    object\n",
      " 1   Order ID  800 non-null    object\n",
      "dtypes: object(2)\n",
      "memory usage: 12.6+ KB\n"
     ]
    }
   ],
   "source": [
    "returns_df.info()"
   ]
  },
  {
   "cell_type": "markdown",
   "metadata": {},
   "source": [
    "**Checking for duplicates**"
   ]
  },
  {
   "cell_type": "code",
   "execution_count": 25,
   "metadata": {},
   "outputs": [
    {
     "name": "stdout",
     "output_type": "stream",
     "text": [
      "504\n"
     ]
    }
   ],
   "source": [
    "print(returns_df.duplicated().sum())"
   ]
  },
  {
   "cell_type": "markdown",
   "metadata": {},
   "source": [
    "**Remove duplicates**"
   ]
  },
  {
   "cell_type": "code",
   "execution_count": 26,
   "metadata": {},
   "outputs": [],
   "source": [
    "returns_df.drop_duplicates(inplace=True) # no need to use keep= as we are not dealing with datetime data"
   ]
  },
  {
   "cell_type": "markdown",
   "metadata": {},
   "source": [
    "**Checking for null values**"
   ]
  },
  {
   "cell_type": "code",
   "execution_count": 27,
   "metadata": {},
   "outputs": [
    {
     "data": {
      "text/plain": [
       "Returned    0\n",
       "Order ID    0\n",
       "dtype: int64"
      ]
     },
     "execution_count": 27,
     "metadata": {},
     "output_type": "execute_result"
    }
   ],
   "source": [
    "returns_df.isnull().sum()"
   ]
  },
  {
   "cell_type": "markdown",
   "metadata": {},
   "source": [
    "### Renaming headers"
   ]
  },
  {
   "cell_type": "code",
   "execution_count": 28,
   "metadata": {},
   "outputs": [],
   "source": [
    "returns_df.columns = [snake_case(col) for col in returns_df.columns]"
   ]
  },
  {
   "cell_type": "markdown",
   "metadata": {},
   "source": [
    "#### Final inspection"
   ]
  },
  {
   "cell_type": "code",
   "execution_count": 29,
   "metadata": {},
   "outputs": [
    {
     "data": {
      "text/html": [
       "<div>\n",
       "<style scoped>\n",
       "    .dataframe tbody tr th:only-of-type {\n",
       "        vertical-align: middle;\n",
       "    }\n",
       "\n",
       "    .dataframe tbody tr th {\n",
       "        vertical-align: top;\n",
       "    }\n",
       "\n",
       "    .dataframe thead th {\n",
       "        text-align: right;\n",
       "    }\n",
       "</style>\n",
       "<table border=\"1\" class=\"dataframe\">\n",
       "  <thead>\n",
       "    <tr style=\"text-align: right;\">\n",
       "      <th></th>\n",
       "      <th>returned</th>\n",
       "      <th>order_id</th>\n",
       "    </tr>\n",
       "  </thead>\n",
       "  <tbody>\n",
       "    <tr>\n",
       "      <th>787</th>\n",
       "      <td>Yes</td>\n",
       "      <td>US-2024-136679</td>\n",
       "    </tr>\n",
       "    <tr>\n",
       "      <th>789</th>\n",
       "      <td>Yes</td>\n",
       "      <td>US-2024-147886</td>\n",
       "    </tr>\n",
       "    <tr>\n",
       "      <th>796</th>\n",
       "      <td>Yes</td>\n",
       "      <td>US-2024-147998</td>\n",
       "    </tr>\n",
       "    <tr>\n",
       "      <th>797</th>\n",
       "      <td>Yes</td>\n",
       "      <td>US-2024-151127</td>\n",
       "    </tr>\n",
       "    <tr>\n",
       "      <th>798</th>\n",
       "      <td>Yes</td>\n",
       "      <td>US-2024-155999</td>\n",
       "    </tr>\n",
       "  </tbody>\n",
       "</table>\n",
       "</div>"
      ],
      "text/plain": [
       "    returned        order_id\n",
       "787      Yes  US-2024-136679\n",
       "789      Yes  US-2024-147886\n",
       "796      Yes  US-2024-147998\n",
       "797      Yes  US-2024-151127\n",
       "798      Yes  US-2024-155999"
      ]
     },
     "execution_count": 29,
     "metadata": {},
     "output_type": "execute_result"
    }
   ],
   "source": [
    "returns_df.tail()"
   ]
  },
  {
   "cell_type": "markdown",
   "metadata": {},
   "source": [
    "---"
   ]
  },
  {
   "cell_type": "markdown",
   "metadata": {},
   "source": [
    "## Load data - MySQL prototype"
   ]
  },
  {
   "cell_type": "markdown",
   "metadata": {},
   "source": [
    "### Break down data frames into tables\n",
    "\n",
    "**Entity Relationship Diagram**\n",
    "\n",
    "<img src=\"https://github.com/user-attachments/assets/bc9bce47-408f-4c4f-9676-d2fdf79db532\" alt=\"Image\" width=\"800\" height=\"300\">"
   ]
  },
  {
   "cell_type": "markdown",
   "metadata": {},
   "source": [
    "**Note: samples**\n",
    "\n",
    "In the case where the dataset is too large, we can use samples for prototyping."
   ]
  },
  {
   "cell_type": "code",
   "execution_count": null,
   "metadata": {},
   "outputs": [],
   "source": [
    "orders_sample = orders_df.sample(frac=0.2, random_state=42)\n",
    "orders_sample.head()"
   ]
  },
  {
   "cell_type": "markdown",
   "metadata": {},
   "source": [
    "**Table: orders**"
   ]
  },
  {
   "cell_type": "code",
   "execution_count": null,
   "metadata": {},
   "outputs": [
    {
     "data": {
      "text/html": [
       "<div>\n",
       "<style scoped>\n",
       "    .dataframe tbody tr th:only-of-type {\n",
       "        vertical-align: middle;\n",
       "    }\n",
       "\n",
       "    .dataframe tbody tr th {\n",
       "        vertical-align: top;\n",
       "    }\n",
       "\n",
       "    .dataframe thead th {\n",
       "        text-align: right;\n",
       "    }\n",
       "</style>\n",
       "<table border=\"1\" class=\"dataframe\">\n",
       "  <thead>\n",
       "    <tr style=\"text-align: right;\">\n",
       "      <th></th>\n",
       "      <th>order_id</th>\n",
       "      <th>order_date</th>\n",
       "      <th>ship_date</th>\n",
       "      <th>ship_mode</th>\n",
       "      <th>customer_id</th>\n",
       "      <th>product_id</th>\n",
       "      <th>sales</th>\n",
       "      <th>quantity</th>\n",
       "      <th>discount</th>\n",
       "      <th>profit</th>\n",
       "    </tr>\n",
       "  </thead>\n",
       "  <tbody>\n",
       "    <tr>\n",
       "      <th>0</th>\n",
       "      <td>US-2021-103800</td>\n",
       "      <td>2021-01-03</td>\n",
       "      <td>2021-01-07</td>\n",
       "      <td>Standard Class</td>\n",
       "      <td>DP-13000</td>\n",
       "      <td>OFF-PA-10000174</td>\n",
       "      <td>16.448</td>\n",
       "      <td>2</td>\n",
       "      <td>0.2</td>\n",
       "      <td>5.5512</td>\n",
       "    </tr>\n",
       "    <tr>\n",
       "      <th>1</th>\n",
       "      <td>US-2021-112326</td>\n",
       "      <td>2021-01-04</td>\n",
       "      <td>2021-01-08</td>\n",
       "      <td>Standard Class</td>\n",
       "      <td>PO-19195</td>\n",
       "      <td>OFF-BI-10004094</td>\n",
       "      <td>3.540</td>\n",
       "      <td>2</td>\n",
       "      <td>0.8</td>\n",
       "      <td>-5.4870</td>\n",
       "    </tr>\n",
       "    <tr>\n",
       "      <th>2</th>\n",
       "      <td>US-2021-112326</td>\n",
       "      <td>2021-01-04</td>\n",
       "      <td>2021-01-08</td>\n",
       "      <td>Standard Class</td>\n",
       "      <td>PO-19195</td>\n",
       "      <td>OFF-LA-10003223</td>\n",
       "      <td>11.784</td>\n",
       "      <td>3</td>\n",
       "      <td>0.2</td>\n",
       "      <td>4.2717</td>\n",
       "    </tr>\n",
       "    <tr>\n",
       "      <th>3</th>\n",
       "      <td>US-2021-112326</td>\n",
       "      <td>2021-01-04</td>\n",
       "      <td>2021-01-08</td>\n",
       "      <td>Standard Class</td>\n",
       "      <td>PO-19195</td>\n",
       "      <td>OFF-ST-10002743</td>\n",
       "      <td>272.736</td>\n",
       "      <td>3</td>\n",
       "      <td>0.2</td>\n",
       "      <td>-64.7748</td>\n",
       "    </tr>\n",
       "    <tr>\n",
       "      <th>4</th>\n",
       "      <td>US-2021-141817</td>\n",
       "      <td>2021-01-05</td>\n",
       "      <td>2021-01-12</td>\n",
       "      <td>Standard Class</td>\n",
       "      <td>MB-18085</td>\n",
       "      <td>OFF-AR-10003478</td>\n",
       "      <td>19.536</td>\n",
       "      <td>3</td>\n",
       "      <td>0.2</td>\n",
       "      <td>4.8840</td>\n",
       "    </tr>\n",
       "  </tbody>\n",
       "</table>\n",
       "</div>"
      ],
      "text/plain": [
       "         order_id order_date  ship_date       ship_mode customer_id  \\\n",
       "0  US-2021-103800 2021-01-03 2021-01-07  Standard Class    DP-13000   \n",
       "1  US-2021-112326 2021-01-04 2021-01-08  Standard Class    PO-19195   \n",
       "2  US-2021-112326 2021-01-04 2021-01-08  Standard Class    PO-19195   \n",
       "3  US-2021-112326 2021-01-04 2021-01-08  Standard Class    PO-19195   \n",
       "4  US-2021-141817 2021-01-05 2021-01-12  Standard Class    MB-18085   \n",
       "\n",
       "        product_id    sales  quantity  discount   profit  \n",
       "0  OFF-PA-10000174   16.448         2       0.2   5.5512  \n",
       "1  OFF-BI-10004094    3.540         2       0.8  -5.4870  \n",
       "2  OFF-LA-10003223   11.784         3       0.2   4.2717  \n",
       "3  OFF-ST-10002743  272.736         3       0.2 -64.7748  \n",
       "4  OFF-AR-10003478   19.536         3       0.2   4.8840  "
      ]
     },
     "execution_count": 40,
     "metadata": {},
     "output_type": "execute_result"
    }
   ],
   "source": [
    "orders = orders_df[['order_id', 'order_date', 'ship_date', 'ship_mode', 'customer_id', 'product_id', 'sales', 'quantity', 'discount', 'profit']]\n",
    "orders = orders.drop_duplicates(['order_id', 'product_id'])\n",
    "orders.head()"
   ]
  },
  {
   "cell_type": "markdown",
   "metadata": {},
   "source": [
    "**Table: customers**"
   ]
  },
  {
   "cell_type": "code",
   "execution_count": 31,
   "metadata": {},
   "outputs": [
    {
     "data": {
      "text/html": [
       "<div>\n",
       "<style scoped>\n",
       "    .dataframe tbody tr th:only-of-type {\n",
       "        vertical-align: middle;\n",
       "    }\n",
       "\n",
       "    .dataframe tbody tr th {\n",
       "        vertical-align: top;\n",
       "    }\n",
       "\n",
       "    .dataframe thead th {\n",
       "        text-align: right;\n",
       "    }\n",
       "</style>\n",
       "<table border=\"1\" class=\"dataframe\">\n",
       "  <thead>\n",
       "    <tr style=\"text-align: right;\">\n",
       "      <th></th>\n",
       "      <th>customer_id</th>\n",
       "      <th>customer_name</th>\n",
       "      <th>segment</th>\n",
       "      <th>country</th>\n",
       "      <th>city</th>\n",
       "      <th>province</th>\n",
       "      <th>post_code</th>\n",
       "      <th>region</th>\n",
       "    </tr>\n",
       "  </thead>\n",
       "  <tbody>\n",
       "    <tr>\n",
       "      <th>0</th>\n",
       "      <td>DP-13000</td>\n",
       "      <td>Darren Powers</td>\n",
       "      <td>Consumer</td>\n",
       "      <td>United States</td>\n",
       "      <td>Houston</td>\n",
       "      <td>Texas</td>\n",
       "      <td>77095</td>\n",
       "      <td>Central</td>\n",
       "    </tr>\n",
       "    <tr>\n",
       "      <th>1</th>\n",
       "      <td>PO-19195</td>\n",
       "      <td>Phillina Ober</td>\n",
       "      <td>Home Office</td>\n",
       "      <td>United States</td>\n",
       "      <td>Naperville</td>\n",
       "      <td>Illinois</td>\n",
       "      <td>60540</td>\n",
       "      <td>Central</td>\n",
       "    </tr>\n",
       "    <tr>\n",
       "      <th>4</th>\n",
       "      <td>MB-18085</td>\n",
       "      <td>Mick Brown</td>\n",
       "      <td>Consumer</td>\n",
       "      <td>United States</td>\n",
       "      <td>Philadelphia</td>\n",
       "      <td>Pennsylvania</td>\n",
       "      <td>19143</td>\n",
       "      <td>East</td>\n",
       "    </tr>\n",
       "    <tr>\n",
       "      <th>5</th>\n",
       "      <td>ME-17320</td>\n",
       "      <td>Maria Etezadi</td>\n",
       "      <td>Home Office</td>\n",
       "      <td>United States</td>\n",
       "      <td>Henderson</td>\n",
       "      <td>Kentucky</td>\n",
       "      <td>42420</td>\n",
       "      <td>South</td>\n",
       "    </tr>\n",
       "    <tr>\n",
       "      <th>7</th>\n",
       "      <td>JO-15145</td>\n",
       "      <td>Jack O'Briant</td>\n",
       "      <td>Corporate</td>\n",
       "      <td>United States</td>\n",
       "      <td>Athens</td>\n",
       "      <td>Georgia</td>\n",
       "      <td>30605</td>\n",
       "      <td>South</td>\n",
       "    </tr>\n",
       "  </tbody>\n",
       "</table>\n",
       "</div>"
      ],
      "text/plain": [
       "  customer_id  customer_name      segment        country          city  \\\n",
       "0    DP-13000  Darren Powers     Consumer  United States       Houston   \n",
       "1    PO-19195  Phillina Ober  Home Office  United States    Naperville   \n",
       "4    MB-18085     Mick Brown     Consumer  United States  Philadelphia   \n",
       "5    ME-17320  Maria Etezadi  Home Office  United States     Henderson   \n",
       "7    JO-15145  Jack O'Briant    Corporate  United States        Athens   \n",
       "\n",
       "       province post_code   region  \n",
       "0         Texas     77095  Central  \n",
       "1      Illinois     60540  Central  \n",
       "4  Pennsylvania     19143     East  \n",
       "5      Kentucky     42420    South  \n",
       "7       Georgia     30605    South  "
      ]
     },
     "execution_count": 31,
     "metadata": {},
     "output_type": "execute_result"
    }
   ],
   "source": [
    "customers = orders_df[['customer_id', 'customer_name', 'segment', 'country', 'city', 'province', 'post_code', 'region']]\n",
    "customers = customers.drop_duplicates(subset=['customer_id'])\n",
    "customers.head()"
   ]
  },
  {
   "cell_type": "markdown",
   "metadata": {},
   "source": [
    "**Table: products**"
   ]
  },
  {
   "cell_type": "code",
   "execution_count": 32,
   "metadata": {},
   "outputs": [
    {
     "data": {
      "text/html": [
       "<div>\n",
       "<style scoped>\n",
       "    .dataframe tbody tr th:only-of-type {\n",
       "        vertical-align: middle;\n",
       "    }\n",
       "\n",
       "    .dataframe tbody tr th {\n",
       "        vertical-align: top;\n",
       "    }\n",
       "\n",
       "    .dataframe thead th {\n",
       "        text-align: right;\n",
       "    }\n",
       "</style>\n",
       "<table border=\"1\" class=\"dataframe\">\n",
       "  <thead>\n",
       "    <tr style=\"text-align: right;\">\n",
       "      <th></th>\n",
       "      <th>product_id</th>\n",
       "      <th>product_name</th>\n",
       "      <th>category</th>\n",
       "      <th>sub_category</th>\n",
       "    </tr>\n",
       "  </thead>\n",
       "  <tbody>\n",
       "    <tr>\n",
       "      <th>0</th>\n",
       "      <td>OFF-PA-10000174</td>\n",
       "      <td>Message Book, Wirebound, Four 5 1/2\" X 4\" Form...</td>\n",
       "      <td>Office Supplies</td>\n",
       "      <td>Paper</td>\n",
       "    </tr>\n",
       "    <tr>\n",
       "      <th>1</th>\n",
       "      <td>OFF-BI-10004094</td>\n",
       "      <td>GBC Standard Plastic Binding Systems Combs</td>\n",
       "      <td>Office Supplies</td>\n",
       "      <td>Binders</td>\n",
       "    </tr>\n",
       "    <tr>\n",
       "      <th>2</th>\n",
       "      <td>OFF-LA-10003223</td>\n",
       "      <td>Avery 508</td>\n",
       "      <td>Office Supplies</td>\n",
       "      <td>Labels</td>\n",
       "    </tr>\n",
       "    <tr>\n",
       "      <th>3</th>\n",
       "      <td>OFF-ST-10002743</td>\n",
       "      <td>SAFCO Boltless Steel Shelving</td>\n",
       "      <td>Office Supplies</td>\n",
       "      <td>Storage</td>\n",
       "    </tr>\n",
       "    <tr>\n",
       "      <th>4</th>\n",
       "      <td>OFF-AR-10003478</td>\n",
       "      <td>Avery Hi-Liter EverBold Pen Style Fluorescent ...</td>\n",
       "      <td>Office Supplies</td>\n",
       "      <td>Art</td>\n",
       "    </tr>\n",
       "  </tbody>\n",
       "</table>\n",
       "</div>"
      ],
      "text/plain": [
       "        product_id                                       product_name  \\\n",
       "0  OFF-PA-10000174  Message Book, Wirebound, Four 5 1/2\" X 4\" Form...   \n",
       "1  OFF-BI-10004094         GBC Standard Plastic Binding Systems Combs   \n",
       "2  OFF-LA-10003223                                          Avery 508   \n",
       "3  OFF-ST-10002743                      SAFCO Boltless Steel Shelving   \n",
       "4  OFF-AR-10003478  Avery Hi-Liter EverBold Pen Style Fluorescent ...   \n",
       "\n",
       "          category sub_category  \n",
       "0  Office Supplies        Paper  \n",
       "1  Office Supplies      Binders  \n",
       "2  Office Supplies       Labels  \n",
       "3  Office Supplies      Storage  \n",
       "4  Office Supplies          Art  "
      ]
     },
     "execution_count": 32,
     "metadata": {},
     "output_type": "execute_result"
    }
   ],
   "source": [
    "products = orders_df[['product_id', 'product_name', 'category', 'sub_category']].drop_duplicates()\n",
    "products = products.drop_duplicates(subset=['product_id'])\n",
    "products.head()"
   ]
  },
  {
   "cell_type": "markdown",
   "metadata": {},
   "source": [
    "**Table: regions**"
   ]
  },
  {
   "cell_type": "code",
   "execution_count": 33,
   "metadata": {},
   "outputs": [
    {
     "data": {
      "text/html": [
       "<div>\n",
       "<style scoped>\n",
       "    .dataframe tbody tr th:only-of-type {\n",
       "        vertical-align: middle;\n",
       "    }\n",
       "\n",
       "    .dataframe tbody tr th {\n",
       "        vertical-align: top;\n",
       "    }\n",
       "\n",
       "    .dataframe thead th {\n",
       "        text-align: right;\n",
       "    }\n",
       "</style>\n",
       "<table border=\"1\" class=\"dataframe\">\n",
       "  <thead>\n",
       "    <tr style=\"text-align: right;\">\n",
       "      <th></th>\n",
       "      <th>region</th>\n",
       "      <th>manager</th>\n",
       "    </tr>\n",
       "  </thead>\n",
       "  <tbody>\n",
       "    <tr>\n",
       "      <th>0</th>\n",
       "      <td>West</td>\n",
       "      <td>Sadie Pawthorne</td>\n",
       "    </tr>\n",
       "    <tr>\n",
       "      <th>1</th>\n",
       "      <td>East</td>\n",
       "      <td>Chuck Magee</td>\n",
       "    </tr>\n",
       "    <tr>\n",
       "      <th>2</th>\n",
       "      <td>Central</td>\n",
       "      <td>Roxanne Rodriguez</td>\n",
       "    </tr>\n",
       "    <tr>\n",
       "      <th>3</th>\n",
       "      <td>South</td>\n",
       "      <td>Fred Suzuki</td>\n",
       "    </tr>\n",
       "  </tbody>\n",
       "</table>\n",
       "</div>"
      ],
      "text/plain": [
       "    region            manager\n",
       "0     West    Sadie Pawthorne\n",
       "1     East        Chuck Magee\n",
       "2  Central  Roxanne Rodriguez\n",
       "3    South        Fred Suzuki"
      ]
     },
     "execution_count": 33,
     "metadata": {},
     "output_type": "execute_result"
    }
   ],
   "source": [
    "regions = people_df[['region', 'manager']].drop_duplicates()\n",
    "regions.head()"
   ]
  },
  {
   "cell_type": "markdown",
   "metadata": {},
   "source": [
    "**Table: return_stat**"
   ]
  },
  {
   "cell_type": "code",
   "execution_count": 34,
   "metadata": {},
   "outputs": [
    {
     "data": {
      "text/html": [
       "<div>\n",
       "<style scoped>\n",
       "    .dataframe tbody tr th:only-of-type {\n",
       "        vertical-align: middle;\n",
       "    }\n",
       "\n",
       "    .dataframe tbody tr th {\n",
       "        vertical-align: top;\n",
       "    }\n",
       "\n",
       "    .dataframe thead th {\n",
       "        text-align: right;\n",
       "    }\n",
       "</style>\n",
       "<table border=\"1\" class=\"dataframe\">\n",
       "  <thead>\n",
       "    <tr style=\"text-align: right;\">\n",
       "      <th></th>\n",
       "      <th>order_id</th>\n",
       "      <th>returned</th>\n",
       "    </tr>\n",
       "  </thead>\n",
       "  <tbody>\n",
       "    <tr>\n",
       "      <th>0</th>\n",
       "      <td>US-2021-100762</td>\n",
       "      <td>Yes</td>\n",
       "    </tr>\n",
       "    <tr>\n",
       "      <th>4</th>\n",
       "      <td>US-2021-100867</td>\n",
       "      <td>Yes</td>\n",
       "    </tr>\n",
       "    <tr>\n",
       "      <th>5</th>\n",
       "      <td>US-2021-102652</td>\n",
       "      <td>Yes</td>\n",
       "    </tr>\n",
       "    <tr>\n",
       "      <th>9</th>\n",
       "      <td>US-2021-103373</td>\n",
       "      <td>Yes</td>\n",
       "    </tr>\n",
       "    <tr>\n",
       "      <th>10</th>\n",
       "      <td>US-2021-103744</td>\n",
       "      <td>Yes</td>\n",
       "    </tr>\n",
       "  </tbody>\n",
       "</table>\n",
       "</div>"
      ],
      "text/plain": [
       "          order_id returned\n",
       "0   US-2021-100762      Yes\n",
       "4   US-2021-100867      Yes\n",
       "5   US-2021-102652      Yes\n",
       "9   US-2021-103373      Yes\n",
       "10  US-2021-103744      Yes"
      ]
     },
     "execution_count": 34,
     "metadata": {},
     "output_type": "execute_result"
    }
   ],
   "source": [
    "return_stat = returns_df[['order_id', 'returned']]\n",
    "return_stat = return_stat.drop_duplicates(subset=['order_id'])\n",
    "return_stat.head()"
   ]
  },
  {
   "cell_type": "code",
   "execution_count": 35,
   "metadata": {},
   "outputs": [],
   "source": [
    "USER = 'root'\n",
    "HOST = 'localhost'\n",
    "PASSWORD = '42%Nice69%Evil'\n",
    "DATABASE = 'superstore'\n",
    "\n",
    "engine = create_engine(f\"mysql+mysqlconnector://{USER}:{PASSWORD}@{HOST}/{DATABASE}\")"
   ]
  },
  {
   "cell_type": "markdown",
   "metadata": {},
   "source": [
    "### First load"
   ]
  },
  {
   "cell_type": "code",
   "execution_count": null,
   "metadata": {},
   "outputs": [],
   "source": [
    "try:\n",
    "\twith engine.connect() as conn:\n",
    "\t\tregions.to_sql('regions', con=conn, if_exists='append', index=False)\n",
    "\t\tproducts.to_sql('products', con=conn, if_exists='append', index=False)\n",
    "\t\tcustomers.to_sql('customers', con=conn, if_exists='append', index=False)\n",
    "\t\torders.to_sql('orders', con=conn, if_exists='append', index=False)\n",
    "\t\treturn_stat.to_sql('return_stat', con=conn, if_exists='append', index=False)\n",
    "except Exception as error:\n",
    "\tprint(f'Uploading unsuccessful. {error}')"
   ]
  }
 ],
 "metadata": {
  "kernelspec": {
   "display_name": "Python 3",
   "language": "python",
   "name": "python3"
  },
  "language_info": {
   "codemirror_mode": {
    "name": "ipython",
    "version": 3
   },
   "file_extension": ".py",
   "mimetype": "text/x-python",
   "name": "python",
   "nbconvert_exporter": "python",
   "pygments_lexer": "ipython3",
   "version": "3.13.0"
  }
 },
 "nbformat": 4,
 "nbformat_minor": 2
}
